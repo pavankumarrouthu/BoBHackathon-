{
  "nbformat": 4,
  "nbformat_minor": 0,
  "metadata": {
    "colab": {
      "provenance": [],
      "authorship_tag": "ABX9TyOqU+eCWV/gCAT9VgDVDxB+",
      "include_colab_link": true
    },
    "kernelspec": {
      "name": "python3",
      "display_name": "Python 3"
    },
    "language_info": {
      "name": "python"
    }
  },
  "cells": [
    {
      "cell_type": "markdown",
      "metadata": {
        "id": "view-in-github",
        "colab_type": "text"
      },
      "source": [
        "<a href=\"https://colab.research.google.com/github/pavankumarrouthu/BoBHackathon-/blob/main/VRV.ipynb\" target=\"_parent\"><img src=\"https://colab.research.google.com/assets/colab-badge.svg\" alt=\"Open In Colab\"/></a>"
      ]
    },
    {
      "cell_type": "code",
      "execution_count": 84,
      "metadata": {
        "colab": {
          "base_uri": "https://localhost:8080/"
        },
        "id": "LV0E8P7j_DdK",
        "outputId": "79553138-eb2c-4084-811b-e3a0184b23b7"
      },
      "outputs": [
        {
          "output_type": "stream",
          "name": "stdout",
          "text": [
            "34\n"
          ]
        }
      ],
      "source": [
        "f = open('sample.log','r')\n",
        "count = 0\n",
        "i = f.readline()\n",
        "while i:\n",
        "    count = count + 1\n",
        "    i = f.readline()\n",
        "print(count)\n",
        "\n",
        "f.close()"
      ]
    },
    {
      "cell_type": "code",
      "source": [],
      "metadata": {
        "id": "QCEV0hNIqXHP"
      },
      "execution_count": null,
      "outputs": []
    },
    {
      "cell_type": "code",
      "source": [
        "# a = f.readline()\n",
        "# print(a[0:11])  # Prints the first 10 characters\n",
        "f = open('sample.log','r')\n",
        "d = []\n",
        "i = 0\n",
        "x = 0\n",
        "a = f.readline()\n",
        "while i != count:\n",
        "  if a[-21:] == ' \"Invalid credentials\" ' :\n",
        "    x = x + 1\n",
        "    #print('Ture')\n",
        "    #d.append([a[:11],a[-21:]])\n",
        "  a = f.readline()\n",
        "  i = i + 1\n",
        "print(x)\n",
        "#print(d)\n",
        "#print(d)\n",
        "#print(count)\n",
        "\n",
        "# x = {}\n",
        "# for i in d:\n",
        "#     x[i] = 0\n",
        "# for i in d :\n",
        "#   if a [-11:] == \"Invalid credentials\":\n",
        "#     x[i] += 1\n",
        "\n",
        "# print(x)\n",
        "# print(\"Suspicious Activity Detected:\")\n",
        "# print(\"IP Address\", \"\\t\",\"Failed Login Attempts\")\n",
        "\n",
        "# for i in x :\n",
        "#   print (i,\"\\t\",x[i])"
      ],
      "metadata": {
        "id": "VKaIzMsKBmEi"
      },
      "execution_count": null,
      "outputs": []
    }
  ]
}